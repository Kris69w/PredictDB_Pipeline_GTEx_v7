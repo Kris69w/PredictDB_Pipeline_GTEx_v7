{
 "cells": [
  {
   "cell_type": "code",
   "execution_count": 1,
   "metadata": {},
   "outputs": [
    {
     "name": "stdout",
     "output_type": "stream",
     "text": [
      "--2017-08-10 15:22:19--  ftp://hgdownload.cse.ucsc.edu/goldenPath/hg19/database/hapmapSnpsCEU.txt.gz\n",
      "           => ‘hapmapSnpsCEU.txt.gz’\n",
      "Resolving hgdownload.cse.ucsc.edu... 128.114.119.163\n",
      "Connecting to hgdownload.cse.ucsc.edu|128.114.119.163|:21... connected.\n",
      "Logging in as anonymous ... Logged in!\n",
      "==> SYST ... done.    ==> PWD ... done.\n",
      "==> TYPE I ... done.  ==> CWD (1) /goldenPath/hg19/database ... done.\n",
      "==> SIZE hapmapSnpsCEU.txt.gz ... 64728823\n",
      "==> PASV ... done.    ==> RETR hapmapSnpsCEU.txt.gz ... done.\n",
      "Length: 64728823 (62M) (unauthoritative)\n",
      "\n",
      "hapmapSnpsCEU.txt.g 100%[===================>]  61.73M  11.2MB/s    in 6.1s    \n",
      "\n",
      "2017-08-10 15:22:26 (10.1 MB/s) - ‘hapmapSnpsCEU.txt.gz’ saved [64728823]\n",
      "\n"
     ]
    }
   ],
   "source": [
    "!wget ftp://hgdownload.cse.ucsc.edu/goldenPath/hg19/database/hapmapSnpsCEU.txt.gz"
   ]
  },
  {
   "cell_type": "code",
   "execution_count": 5,
   "metadata": {},
   "outputs": [
    {
     "name": "stdout",
     "output_type": "stream",
     "text": [
      "585\tchr1\t55298\t55299\trs10399749\t0\t+\tC/T\tC\t84\tT\t0\t0\r\n",
      "585\tchr1\t82570\t82571\trs4030303\t0\t+\tA/G\tA\t0\tG\t90\t0\r\n",
      "585\tchr1\t82651\t82652\trs4030300\t0\t+\tA/C\tA\t0\tC\t85\t0\r\n",
      "585\tchr1\t88168\t88169\trs940550\t0\t+\tC/T\tC\t0\tT\t90\t0\r\n",
      "585\tchr1\t91604\t91605\trs13328714\t0\t+\tC/T\tC\t89\tT\t0\t0\r\n",
      "586\tchr1\t232213\t232214\trs11490937\t0\t+\tA/G\tA\t0\tG\t90\t0\r\n",
      "589\tchr1\t534582\t534583\trs6683466\t0\t+\tC/G\tC\t90\tG\t0\t0\r\n",
      "589\tchr1\t546696\t546697\trs12025928\t0\t+\tA/G\tA\t0\tG\t89\t0\r\n",
      "589\tchr1\t564476\t564477\trs6650104\t12\t+\tA/G\tA\t160\tG\t0\t4\r\n",
      "589\tchr1\t564531\t564532\trs11240781\t0\t+\tA/G\tA\t0\tG\t89\t0\r\n",
      "cat: stdout: Broken pipe\r\n"
     ]
    }
   ],
   "source": [
    "!zless hapmapSnpsCEU.txt.gz | head"
   ]
  },
  {
   "cell_type": "code",
   "execution_count": 6,
   "metadata": {
    "collapsed": true
   },
   "outputs": [],
   "source": [
    "import pandas as pd\n",
    "import matplotlib.pyplot as plt"
   ]
  },
  {
   "cell_type": "code",
   "execution_count": 7,
   "metadata": {
    "collapsed": true
   },
   "outputs": [],
   "source": [
    "col_names = ['track', 'chromosome', 'pos', 'pos0', 'name',\n",
    "             'score', 'strand', 'alleles', 'allele1', 'homocount1', 'allele2', 'homocount2', 'heterocount']\n",
    "hapmap_df = pd.read_csv('hapmapSnpsCEU.txt.gz', sep='\\s+', names=col_names)"
   ]
  },
  {
   "cell_type": "code",
   "execution_count": 9,
   "metadata": {},
   "outputs": [
    {
     "name": "stdout",
     "output_type": "stream",
     "text": [
      "<class 'pandas.core.frame.DataFrame'>\n",
      "RangeIndex: 4029798 entries, 0 to 4029797\n",
      "Data columns (total 13 columns):\n",
      "track          int64\n",
      "chromosome     object\n",
      "pos            int64\n",
      "pos0           int64\n",
      "name           object\n",
      "score          int64\n",
      "strand         object\n",
      "alleles        object\n",
      "allele1        object\n",
      "homocount1     int64\n",
      "allele2        object\n",
      "homocount2     int64\n",
      "heterocount    int64\n",
      "dtypes: int64(7), object(6)\n",
      "memory usage: 399.7+ MB\n",
      "None\n"
     ]
    }
   ],
   "source": [
    "print(hapmap_df.info())"
   ]
  },
  {
   "cell_type": "code",
   "execution_count": 10,
   "metadata": {},
   "outputs": [
    {
     "data": {
      "text/html": [
       "<div>\n",
       "<style>\n",
       "    .dataframe thead tr:only-child th {\n",
       "        text-align: right;\n",
       "    }\n",
       "\n",
       "    .dataframe thead th {\n",
       "        text-align: left;\n",
       "    }\n",
       "\n",
       "    .dataframe tbody tr th {\n",
       "        vertical-align: top;\n",
       "    }\n",
       "</style>\n",
       "<table border=\"1\" class=\"dataframe\">\n",
       "  <thead>\n",
       "    <tr style=\"text-align: right;\">\n",
       "      <th></th>\n",
       "      <th>track</th>\n",
       "      <th>chromosome</th>\n",
       "      <th>pos</th>\n",
       "      <th>pos0</th>\n",
       "      <th>name</th>\n",
       "      <th>score</th>\n",
       "      <th>strand</th>\n",
       "      <th>alleles</th>\n",
       "      <th>allele1</th>\n",
       "      <th>homocount1</th>\n",
       "      <th>allele2</th>\n",
       "      <th>homocount2</th>\n",
       "      <th>heterocount</th>\n",
       "    </tr>\n",
       "  </thead>\n",
       "  <tbody>\n",
       "    <tr>\n",
       "      <th>0</th>\n",
       "      <td>585</td>\n",
       "      <td>chr1</td>\n",
       "      <td>55298</td>\n",
       "      <td>55299</td>\n",
       "      <td>rs10399749</td>\n",
       "      <td>0</td>\n",
       "      <td>+</td>\n",
       "      <td>C/T</td>\n",
       "      <td>C</td>\n",
       "      <td>84</td>\n",
       "      <td>T</td>\n",
       "      <td>0</td>\n",
       "      <td>0</td>\n",
       "    </tr>\n",
       "    <tr>\n",
       "      <th>1</th>\n",
       "      <td>585</td>\n",
       "      <td>chr1</td>\n",
       "      <td>82570</td>\n",
       "      <td>82571</td>\n",
       "      <td>rs4030303</td>\n",
       "      <td>0</td>\n",
       "      <td>+</td>\n",
       "      <td>A/G</td>\n",
       "      <td>A</td>\n",
       "      <td>0</td>\n",
       "      <td>G</td>\n",
       "      <td>90</td>\n",
       "      <td>0</td>\n",
       "    </tr>\n",
       "    <tr>\n",
       "      <th>2</th>\n",
       "      <td>585</td>\n",
       "      <td>chr1</td>\n",
       "      <td>82651</td>\n",
       "      <td>82652</td>\n",
       "      <td>rs4030300</td>\n",
       "      <td>0</td>\n",
       "      <td>+</td>\n",
       "      <td>A/C</td>\n",
       "      <td>A</td>\n",
       "      <td>0</td>\n",
       "      <td>C</td>\n",
       "      <td>85</td>\n",
       "      <td>0</td>\n",
       "    </tr>\n",
       "    <tr>\n",
       "      <th>3</th>\n",
       "      <td>585</td>\n",
       "      <td>chr1</td>\n",
       "      <td>88168</td>\n",
       "      <td>88169</td>\n",
       "      <td>rs940550</td>\n",
       "      <td>0</td>\n",
       "      <td>+</td>\n",
       "      <td>C/T</td>\n",
       "      <td>C</td>\n",
       "      <td>0</td>\n",
       "      <td>T</td>\n",
       "      <td>90</td>\n",
       "      <td>0</td>\n",
       "    </tr>\n",
       "    <tr>\n",
       "      <th>4</th>\n",
       "      <td>585</td>\n",
       "      <td>chr1</td>\n",
       "      <td>91604</td>\n",
       "      <td>91605</td>\n",
       "      <td>rs13328714</td>\n",
       "      <td>0</td>\n",
       "      <td>+</td>\n",
       "      <td>C/T</td>\n",
       "      <td>C</td>\n",
       "      <td>89</td>\n",
       "      <td>T</td>\n",
       "      <td>0</td>\n",
       "      <td>0</td>\n",
       "    </tr>\n",
       "  </tbody>\n",
       "</table>\n",
       "</div>"
      ],
      "text/plain": [
       "   track chromosome    pos   pos0        name  score strand alleles allele1  \\\n",
       "0    585       chr1  55298  55299  rs10399749      0      +     C/T       C   \n",
       "1    585       chr1  82570  82571   rs4030303      0      +     A/G       A   \n",
       "2    585       chr1  82651  82652   rs4030300      0      +     A/C       A   \n",
       "3    585       chr1  88168  88169    rs940550      0      +     C/T       C   \n",
       "4    585       chr1  91604  91605  rs13328714      0      +     C/T       C   \n",
       "\n",
       "   homocount1 allele2  homocount2  heterocount  \n",
       "0          84       T           0            0  \n",
       "1           0       G          90            0  \n",
       "2           0       C          85            0  \n",
       "3           0       T          90            0  \n",
       "4          89       T           0            0  "
      ]
     },
     "execution_count": 10,
     "metadata": {},
     "output_type": "execute_result"
    }
   ],
   "source": [
    "hapmap_df.head()"
   ]
  },
  {
   "cell_type": "code",
   "execution_count": 11,
   "metadata": {},
   "outputs": [
    {
     "data": {
      "text/plain": [
       "chr2     329812\n",
       "chr1     314022\n",
       "chr6     272238\n",
       "chr3     259404\n",
       "chr5     250717\n",
       "chr4     248152\n",
       "chr7     216149\n",
       "chr8     215764\n",
       "chr10    211700\n",
       "chr11    206952\n",
       "chr12    195132\n",
       "chr9     183866\n",
       "chr13    157461\n",
       "chr14    124719\n",
       "chrX     122462\n",
       "chr20    121068\n",
       "chr18    120207\n",
       "chr16    111845\n",
       "chr15    108448\n",
       "chr17     92224\n",
       "chr19     59601\n",
       "chr22     55938\n",
       "chr21     50983\n",
       "chrY        722\n",
       "chrM        212\n",
       "Name: chromosome, dtype: int64"
      ]
     },
     "execution_count": 11,
     "metadata": {},
     "output_type": "execute_result"
    }
   ],
   "source": [
    "hapmap_df['chromosome'].value_counts()"
   ]
  },
  {
   "cell_type": "code",
   "execution_count": 15,
   "metadata": {
    "collapsed": true
   },
   "outputs": [],
   "source": [
    "number_pattern = '\\d'\n",
    "autosome_mask = hapmap_df['chromosome'].str.contains(number_pattern)\n",
    "hapmap_df = hapmap_df.loc[autosome_mask,:]\n",
    "hapmap_df['chromosome'] = pd.to_numeric(hapmap_df['chromosome'].apply(lambda x: x[3:]))"
   ]
  },
  {
   "cell_type": "code",
   "execution_count": 16,
   "metadata": {},
   "outputs": [
    {
     "data": {
      "text/html": [
       "<div>\n",
       "<style>\n",
       "    .dataframe thead tr:only-child th {\n",
       "        text-align: right;\n",
       "    }\n",
       "\n",
       "    .dataframe thead th {\n",
       "        text-align: left;\n",
       "    }\n",
       "\n",
       "    .dataframe tbody tr th {\n",
       "        vertical-align: top;\n",
       "    }\n",
       "</style>\n",
       "<table border=\"1\" class=\"dataframe\">\n",
       "  <thead>\n",
       "    <tr style=\"text-align: right;\">\n",
       "      <th></th>\n",
       "      <th>track</th>\n",
       "      <th>chromosome</th>\n",
       "      <th>pos</th>\n",
       "      <th>pos0</th>\n",
       "      <th>name</th>\n",
       "      <th>score</th>\n",
       "      <th>strand</th>\n",
       "      <th>alleles</th>\n",
       "      <th>allele1</th>\n",
       "      <th>homocount1</th>\n",
       "      <th>allele2</th>\n",
       "      <th>homocount2</th>\n",
       "      <th>heterocount</th>\n",
       "    </tr>\n",
       "  </thead>\n",
       "  <tbody>\n",
       "    <tr>\n",
       "      <th>0</th>\n",
       "      <td>585</td>\n",
       "      <td>1</td>\n",
       "      <td>55298</td>\n",
       "      <td>55299</td>\n",
       "      <td>rs10399749</td>\n",
       "      <td>0</td>\n",
       "      <td>+</td>\n",
       "      <td>C/T</td>\n",
       "      <td>C</td>\n",
       "      <td>84</td>\n",
       "      <td>T</td>\n",
       "      <td>0</td>\n",
       "      <td>0</td>\n",
       "    </tr>\n",
       "    <tr>\n",
       "      <th>1</th>\n",
       "      <td>585</td>\n",
       "      <td>1</td>\n",
       "      <td>82570</td>\n",
       "      <td>82571</td>\n",
       "      <td>rs4030303</td>\n",
       "      <td>0</td>\n",
       "      <td>+</td>\n",
       "      <td>A/G</td>\n",
       "      <td>A</td>\n",
       "      <td>0</td>\n",
       "      <td>G</td>\n",
       "      <td>90</td>\n",
       "      <td>0</td>\n",
       "    </tr>\n",
       "    <tr>\n",
       "      <th>2</th>\n",
       "      <td>585</td>\n",
       "      <td>1</td>\n",
       "      <td>82651</td>\n",
       "      <td>82652</td>\n",
       "      <td>rs4030300</td>\n",
       "      <td>0</td>\n",
       "      <td>+</td>\n",
       "      <td>A/C</td>\n",
       "      <td>A</td>\n",
       "      <td>0</td>\n",
       "      <td>C</td>\n",
       "      <td>85</td>\n",
       "      <td>0</td>\n",
       "    </tr>\n",
       "    <tr>\n",
       "      <th>3</th>\n",
       "      <td>585</td>\n",
       "      <td>1</td>\n",
       "      <td>88168</td>\n",
       "      <td>88169</td>\n",
       "      <td>rs940550</td>\n",
       "      <td>0</td>\n",
       "      <td>+</td>\n",
       "      <td>C/T</td>\n",
       "      <td>C</td>\n",
       "      <td>0</td>\n",
       "      <td>T</td>\n",
       "      <td>90</td>\n",
       "      <td>0</td>\n",
       "    </tr>\n",
       "    <tr>\n",
       "      <th>4</th>\n",
       "      <td>585</td>\n",
       "      <td>1</td>\n",
       "      <td>91604</td>\n",
       "      <td>91605</td>\n",
       "      <td>rs13328714</td>\n",
       "      <td>0</td>\n",
       "      <td>+</td>\n",
       "      <td>C/T</td>\n",
       "      <td>C</td>\n",
       "      <td>89</td>\n",
       "      <td>T</td>\n",
       "      <td>0</td>\n",
       "      <td>0</td>\n",
       "    </tr>\n",
       "  </tbody>\n",
       "</table>\n",
       "</div>"
      ],
      "text/plain": [
       "   track  chromosome    pos   pos0        name  score strand alleles allele1  \\\n",
       "0    585           1  55298  55299  rs10399749      0      +     C/T       C   \n",
       "1    585           1  82570  82571   rs4030303      0      +     A/G       A   \n",
       "2    585           1  82651  82652   rs4030300      0      +     A/C       A   \n",
       "3    585           1  88168  88169    rs940550      0      +     C/T       C   \n",
       "4    585           1  91604  91605  rs13328714      0      +     C/T       C   \n",
       "\n",
       "   homocount1 allele2  homocount2  heterocount  \n",
       "0          84       T           0            0  \n",
       "1           0       G          90            0  \n",
       "2           0       C          85            0  \n",
       "3           0       T          90            0  \n",
       "4          89       T           0            0  "
      ]
     },
     "execution_count": 16,
     "metadata": {},
     "output_type": "execute_result"
    }
   ],
   "source": [
    "hapmap_df.head()"
   ]
  },
  {
   "cell_type": "code",
   "execution_count": 17,
   "metadata": {},
   "outputs": [
    {
     "data": {
      "text/plain": [
       "+    3905816\n",
       "-        586\n",
       "Name: strand, dtype: int64"
      ]
     },
     "execution_count": 17,
     "metadata": {},
     "output_type": "execute_result"
    }
   ],
   "source": [
    "hapmap_df['strand'].value_counts()"
   ]
  },
  {
   "cell_type": "code",
   "execution_count": 22,
   "metadata": {},
   "outputs": [
    {
     "data": {
      "image/png": "[encoded data removed]",
      "text/plain": [
       "<matplotlib.figure.Figure at 0x12471e898>"
      ]
     },
     "metadata": {},
     "output_type": "display_data"
    }
   ],
   "source": [
    "hapmap_df['score'].plot(kind='hist', normed=True)\n",
    "plt.show()"
   ]
  },
  {
   "cell_type": "code",
   "execution_count": 23,
   "metadata": {},
   "outputs": [
    {
     "name": "stdout",
     "output_type": "stream",
     "text": [
      " 77M\tgtex_v7_eur_imputed_maf0.01_chr1.txt.gz\r\n"
     ]
    }
   ],
   "source": [
    "!du -h gtex_v7_eur_imputed_maf0.01_chr1.txt.gz"
   ]
  },
  {
   "cell_type": "code",
   "execution_count": 24,
   "metadata": {},
   "outputs": [
    {
     "name": "stdout",
     "output_type": "stream",
     "text": [
      "<class 'pandas.core.frame.DataFrame'>\n",
      "Int64Index: 3906402 entries, 0 to 3906401\n",
      "Data columns (total 13 columns):\n",
      "track          int64\n",
      "chromosome     int64\n",
      "pos            int64\n",
      "pos0           int64\n",
      "name           object\n",
      "score          int64\n",
      "strand         object\n",
      "alleles        object\n",
      "allele1        object\n",
      "homocount1     int64\n",
      "allele2        object\n",
      "homocount2     int64\n",
      "heterocount    int64\n",
      "dtypes: int64(8), object(5)\n",
      "memory usage: 417.2+ MB\n"
     ]
    }
   ],
   "source": [
    "hapmap_df.info()"
   ]
  },
  {
   "cell_type": "code",
   "execution_count": 26,
   "metadata": {},
   "outputs": [
    {
     "name": "stdout",
     "output_type": "stream",
     "text": [
      "cat: stdout: Broken pipe\r\n",
      "varID\tR2\tER2\tMAF\tGTEX-111CU\tGTEX-111FC\tGTEX-111VG\tGTEX-111YS\tGTEX-1122O\r\n",
      "1_11012_C_G_b37\t0.10299\t.\t0.10547\t0.192\t0.157\t0.171\t0.346\t0.138\r\n",
      "1_13110_G_A_b37\t0.17163\t.\t0.04032\t0.064\t0.036\t0.014\t0.037\t0.051\r\n",
      "1_13116_T_G_b37\t0.10377\t.\t0.11979\t0.218\t0.172\t0.054\t0.098\t0.319\r\n",
      "1_13118_A_G_b37\t0.10386\t.\t0.1198\t0.218\t0.172\t0.054\t0.098\t0.319\r\n",
      "1_13273_G_C_b37\t0.07448\t.\t0.10821\t0.204\t0.204\t0.187\t0.104\t0.192\r\n",
      "1_14464_A_T_b37\t0.10229\t.\t0.11705\t0.219\t0.159\t0.053\t0.226\t0.234\r\n",
      "1_14599_T_A_b37\t0.08377\t.\t0.15325\t0.317\t0.551\t0.081\t0.321\t0.305\r\n",
      "1_14604_A_G_b37\t0.08384\t.\t0.15326\t0.317\t0.551\t0.081\t0.321\t0.305\r\n",
      "1_14930_A_G_b37\t0.07096\t.\t0.48639\t1.004\t1.255\t1.211\t0.999\t1.04\r\n"
     ]
    }
   ],
   "source": [
    "!zless gtex_v7_eur_imputed_maf0.01_chr1.txt.gz | head | cut -f1-9"
   ]
  },
  {
   "cell_type": "code",
   "execution_count": 55,
   "metadata": {
    "collapsed": true
   },
   "outputs": [],
   "source": [
    "dosage_dfs = []\n",
    "for i in range(1,23):\n",
    "    chr_n = str(i)\n",
    "    dosage_file_name = 'gtex_v7_eur_imputed_maf0.01_chr{}.txt.gz'.format(chr_n)\n",
    "    dosage_dfs.append(pd.read_csv(dosage_file_name, usecols=['varID', 'R2', 'ER2', 'MAF'], sep='\\t',na_values='.'))\n",
    "dosage_summaries = pd.concat(dosage_dfs)"
   ]
  },
  {
   "cell_type": "code",
   "execution_count": 56,
   "metadata": {},
   "outputs": [
    {
     "name": "stdout",
     "output_type": "stream",
     "text": [
      "<class 'pandas.core.frame.DataFrame'>\n",
      "Int64Index: 8877507 entries, 0 to 126779\n",
      "Data columns (total 4 columns):\n",
      "varID    object\n",
      "R2       float64\n",
      "ER2      float64\n",
      "MAF      float64\n",
      "dtypes: float64(3), object(1)\n",
      "memory usage: 338.7+ MB\n"
     ]
    }
   ],
   "source": [
    "dosage_summaries.info()"
   ]
  },
  {
   "cell_type": "code",
   "execution_count": 57,
   "metadata": {
    "collapsed": true
   },
   "outputs": [],
   "source": [
    "dosage_summaries = pd.concat([dosage_summaries['varID'].str.split('_', expand=True), dosage_summaries], axis='columns')"
   ]
  },
  {
   "cell_type": "code",
   "execution_count": 58,
   "metadata": {
    "collapsed": true
   },
   "outputs": [],
   "source": [
    "dosage_summaries.columns = ['chromosome', 'pos', 'ref', 'alt', 'build', 'varID', 'R2', 'ER2', 'MAF']"
   ]
  },
  {
   "cell_type": "code",
   "execution_count": 63,
   "metadata": {
    "collapsed": true
   },
   "outputs": [],
   "source": [
    "dosage_summaries['pos0'] = pd.to_numeric(dosage_summaries['pos'])\n",
    "dosage_summaries['chromosome'] = pd.to_numeric(dosage_summaries['chromosome'])"
   ]
  },
  {
   "cell_type": "code",
   "execution_count": 60,
   "metadata": {},
   "outputs": [
    {
     "data": {
      "text/html": [
       "<div>\n",
       "<style>\n",
       "    .dataframe thead tr:only-child th {\n",
       "        text-align: right;\n",
       "    }\n",
       "\n",
       "    .dataframe thead th {\n",
       "        text-align: left;\n",
       "    }\n",
       "\n",
       "    .dataframe tbody tr th {\n",
       "        vertical-align: top;\n",
       "    }\n",
       "</style>\n",
       "<table border=\"1\" class=\"dataframe\">\n",
       "  <thead>\n",
       "    <tr style=\"text-align: right;\">\n",
       "      <th></th>\n",
       "      <th>chromosome</th>\n",
       "      <th>pos</th>\n",
       "      <th>ref</th>\n",
       "      <th>alt</th>\n",
       "      <th>build</th>\n",
       "      <th>varID</th>\n",
       "      <th>R2</th>\n",
       "      <th>ER2</th>\n",
       "      <th>MAF</th>\n",
       "    </tr>\n",
       "  </thead>\n",
       "  <tbody>\n",
       "    <tr>\n",
       "      <th>0</th>\n",
       "      <td>1</td>\n",
       "      <td>11012</td>\n",
       "      <td>C</td>\n",
       "      <td>G</td>\n",
       "      <td>b37</td>\n",
       "      <td>1_11012_C_G_b37</td>\n",
       "      <td>0.10299</td>\n",
       "      <td>NaN</td>\n",
       "      <td>0.10547</td>\n",
       "    </tr>\n",
       "    <tr>\n",
       "      <th>1</th>\n",
       "      <td>1</td>\n",
       "      <td>13110</td>\n",
       "      <td>G</td>\n",
       "      <td>A</td>\n",
       "      <td>b37</td>\n",
       "      <td>1_13110_G_A_b37</td>\n",
       "      <td>0.17163</td>\n",
       "      <td>NaN</td>\n",
       "      <td>0.04032</td>\n",
       "    </tr>\n",
       "    <tr>\n",
       "      <th>2</th>\n",
       "      <td>1</td>\n",
       "      <td>13116</td>\n",
       "      <td>T</td>\n",
       "      <td>G</td>\n",
       "      <td>b37</td>\n",
       "      <td>1_13116_T_G_b37</td>\n",
       "      <td>0.10377</td>\n",
       "      <td>NaN</td>\n",
       "      <td>0.11979</td>\n",
       "    </tr>\n",
       "    <tr>\n",
       "      <th>3</th>\n",
       "      <td>1</td>\n",
       "      <td>13118</td>\n",
       "      <td>A</td>\n",
       "      <td>G</td>\n",
       "      <td>b37</td>\n",
       "      <td>1_13118_A_G_b37</td>\n",
       "      <td>0.10386</td>\n",
       "      <td>NaN</td>\n",
       "      <td>0.11980</td>\n",
       "    </tr>\n",
       "    <tr>\n",
       "      <th>4</th>\n",
       "      <td>1</td>\n",
       "      <td>13273</td>\n",
       "      <td>G</td>\n",
       "      <td>C</td>\n",
       "      <td>b37</td>\n",
       "      <td>1_13273_G_C_b37</td>\n",
       "      <td>0.07448</td>\n",
       "      <td>NaN</td>\n",
       "      <td>0.10821</td>\n",
       "    </tr>\n",
       "  </tbody>\n",
       "</table>\n",
       "</div>"
      ],
      "text/plain": [
       "   chromosome    pos ref alt build            varID       R2  ER2      MAF\n",
       "0           1  11012   C   G   b37  1_11012_C_G_b37  0.10299  NaN  0.10547\n",
       "1           1  13110   G   A   b37  1_13110_G_A_b37  0.17163  NaN  0.04032\n",
       "2           1  13116   T   G   b37  1_13116_T_G_b37  0.10377  NaN  0.11979\n",
       "3           1  13118   A   G   b37  1_13118_A_G_b37  0.10386  NaN  0.11980\n",
       "4           1  13273   G   C   b37  1_13273_G_C_b37  0.07448  NaN  0.10821"
      ]
     },
     "execution_count": 60,
     "metadata": {},
     "output_type": "execute_result"
    }
   ],
   "source": [
    "dosage_summaries.head()"
   ]
  },
  {
   "cell_type": "code",
   "execution_count": 36,
   "metadata": {},
   "outputs": [
    {
     "data": {
      "image/png": "[encoded data removed]",
      "text/plain": [
       "<matplotlib.figure.Figure at 0x130c61cf8>"
      ]
     },
     "metadata": {},
     "output_type": "display_data"
    }
   ],
   "source": [
    "dosage_summaries['R2'].plot(kind='hist')\n",
    "plt.show()"
   ]
  },
  {
   "cell_type": "code",
   "execution_count": 38,
   "metadata": {},
   "outputs": [
    {
     "data": {
      "image/png": "[encoded data removed]",
      "text/plain": [
       "<matplotlib.figure.Figure at 0x267ed7908>"
      ]
     },
     "metadata": {},
     "output_type": "display_data"
    }
   ],
   "source": [
    "dosage_summaries.plot(kind='scatter', x='R2', y='ER2')\n",
    "plt.show()"
   ]
  },
  {
   "cell_type": "code",
   "execution_count": 39,
   "metadata": {},
   "outputs": [
    {
     "data": {
      "text/plain": [
       "True     8607522\n",
       "False     269985\n",
       "Name: R2, dtype: int64"
      ]
     },
     "execution_count": 39,
     "metadata": {},
     "output_type": "execute_result"
    }
   ],
   "source": [
    "(dosage_summaries['R2'] >= 0.8).value_counts()"
   ]
  },
  {
   "cell_type": "code",
   "execution_count": 40,
   "metadata": {},
   "outputs": [
    {
     "data": {
      "text/plain": [
       "False    4850686\n",
       "True     4026821\n",
       "Name: R2, dtype: int64"
      ]
     },
     "execution_count": 40,
     "metadata": {},
     "output_type": "execute_result"
    }
   ],
   "source": [
    "(dosage_summaries['R2'] == 1).value_counts()"
   ]
  },
  {
   "cell_type": "code",
   "execution_count": 64,
   "metadata": {
    "collapsed": true
   },
   "outputs": [],
   "source": [
    "combined = pd.merge(hapmap_df, dosage_summaries, how='inner', on=['chromosome', 'pos0'])"
   ]
  },
  {
   "cell_type": "code",
   "execution_count": 65,
   "metadata": {},
   "outputs": [
    {
     "data": {
      "text/plain": [
       "(2710540, 21)"
      ]
     },
     "execution_count": 65,
     "metadata": {},
     "output_type": "execute_result"
    }
   ],
   "source": [
    "combined.shape"
   ]
  },
  {
   "cell_type": "code",
   "execution_count": 72,
   "metadata": {},
   "outputs": [
    {
     "data": {
      "image/png": "[encoded data removed]",
      "text/plain": [
       "<matplotlib.figure.Figure at 0x3132cecc0>"
      ]
     },
     "metadata": {},
     "output_type": "display_data"
    }
   ],
   "source": [
    "combined.loc[combined['R2'] < 1,'R2'].plot(kind='hist')\n",
    "plt.show()"
   ]
  },
  {
   "cell_type": "code",
   "execution_count": 73,
   "metadata": {},
   "outputs": [
    {
     "data": {
      "text/plain": [
       "True     1545316\n",
       "False    1165224\n",
       "Name: R2, dtype: int64"
      ]
     },
     "execution_count": 73,
     "metadata": {},
     "output_type": "execute_result"
    }
   ],
   "source": [
    "(combined['R2'] == 1).value_counts()"
   ]
  },
  {
   "cell_type": "code",
   "execution_count": 74,
   "metadata": {},
   "outputs": [
    {
     "data": {
      "text/plain": [
       "True     2698840\n",
       "False      11700\n",
       "Name: R2, dtype: int64"
      ]
     },
     "execution_count": 74,
     "metadata": {},
     "output_type": "execute_result"
    }
   ],
   "source": [
    "(combined['R2'] >= 0.8).value_counts()"
   ]
  },
  {
   "cell_type": "code",
   "execution_count": 75,
   "metadata": {},
   "outputs": [
    {
     "data": {
      "text/plain": [
       "True     2698840\n",
       "False      11700\n",
       "Name: R2, dtype: int64"
      ]
     },
     "execution_count": 75,
     "metadata": {},
     "output_type": "execute_result"
    }
   ],
   "source": [
    "(combined['R2'] > 0.8).value_counts()"
   ]
  },
  {
   "cell_type": "code",
   "execution_count": 83,
   "metadata": {},
   "outputs": [
    {
     "data": {
      "text/plain": [
       "0.99568351693758439"
      ]
     },
     "execution_count": 83,
     "metadata": {},
     "output_type": "execute_result"
    }
   ],
   "source": [
    "(combined['R2'] > 0.8).sum() / combined.shape[0]"
   ]
  },
  {
   "cell_type": "code",
   "execution_count": 77,
   "metadata": {
    "collapsed": true
   },
   "outputs": [],
   "source": [
    "import numpy as np\n",
    "\n",
    "cutoff_vals = np.linspace(0, 1, num=101)"
   ]
  },
  {
   "cell_type": "code",
   "execution_count": 81,
   "metadata": {
    "collapsed": true
   },
   "outputs": [],
   "source": [
    "n_snps = combined.shape[0]\n",
    "find_portion_retained = np.vectorize(lambda x: (combined['R2'] >= x).sum() / n_snps)\n",
    "\n",
    "portion_retained = find_portion_retained(cutoff_vals)"
   ]
  },
  {
   "cell_type": "code",
   "execution_count": 82,
   "metadata": {},
   "outputs": [
    {
     "data": {
      "image/png": "[encoded data removed]",
      "text/plain": [
       "<matplotlib.figure.Figure at 0x3134122b0>"
      ]
     },
     "metadata": {},
     "output_type": "display_data"
    }
   ],
   "source": [
    "plt.plot(cutoff_vals, portion_retained)\n",
    "plt.show()"
   ]
  },
  {
   "cell_type": "code",
   "execution_count": 85,
   "metadata": {},
   "outputs": [
    {
     "data": {
      "text/plain": [
       "0.99394511794697737"
      ]
     },
     "execution_count": 85,
     "metadata": {},
     "output_type": "execute_result"
    }
   ],
   "source": [
    "(combined['R2'] > 0.9).sum() / combined.shape[0]"
   ]
  },
  {
   "cell_type": "code",
   "execution_count": 87,
   "metadata": {
    "collapsed": true
   },
   "outputs": [],
   "source": [
    "original_snp_annots = []\n",
    "for i in range(1, 23):\n",
    "    chromosome = str(i)\n",
    "    annot_file_name = \"/Volumes/gtex-group/scott/gtex_snp_annot_chr{}.txt\".format(chromosome)\n",
    "    original_snp_annots.append(pd.read_csv(annot_file_name, sep='\\t'))\n",
    "    \n",
    "original_snp_annot = pd.concat(original_snp_annots)"
   ]
  },
  {
   "cell_type": "code",
   "execution_count": 89,
   "metadata": {},
   "outputs": [
    {
     "data": {
      "text/html": [
       "<div>\n",
       "<style>\n",
       "    .dataframe thead tr:only-child th {\n",
       "        text-align: right;\n",
       "    }\n",
       "\n",
       "    .dataframe thead th {\n",
       "        text-align: left;\n",
       "    }\n",
       "\n",
       "    .dataframe tbody tr th {\n",
       "        vertical-align: top;\n",
       "    }\n",
       "</style>\n",
       "<table border=\"1\" class=\"dataframe\">\n",
       "  <thead>\n",
       "    <tr style=\"text-align: right;\">\n",
       "      <th></th>\n",
       "      <th>Chr</th>\n",
       "      <th>Pos</th>\n",
       "      <th>VariantID</th>\n",
       "      <th>Ref_b37</th>\n",
       "      <th>ALT</th>\n",
       "      <th>RS_ID_dbSNP142_GRCh37p13</th>\n",
       "      <th>RS_ID_dbSNP147_GRCh37p13</th>\n",
       "      <th>Num_alt_per_site</th>\n",
       "    </tr>\n",
       "  </thead>\n",
       "  <tbody>\n",
       "    <tr>\n",
       "      <th>0</th>\n",
       "      <td>1</td>\n",
       "      <td>713092</td>\n",
       "      <td>1_713092_G_A_b37</td>\n",
       "      <td>G</td>\n",
       "      <td>A</td>\n",
       "      <td>rs4565649</td>\n",
       "      <td>rs4565649</td>\n",
       "      <td>1</td>\n",
       "    </tr>\n",
       "    <tr>\n",
       "      <th>1</th>\n",
       "      <td>1</td>\n",
       "      <td>715074</td>\n",
       "      <td>1_715074_A_G_b37</td>\n",
       "      <td>A</td>\n",
       "      <td>G</td>\n",
       "      <td>rs11804379</td>\n",
       "      <td>rs11804379</td>\n",
       "      <td>1</td>\n",
       "    </tr>\n",
       "    <tr>\n",
       "      <th>2</th>\n",
       "      <td>1</td>\n",
       "      <td>715205</td>\n",
       "      <td>1_715205_C_G_b37</td>\n",
       "      <td>C</td>\n",
       "      <td>G</td>\n",
       "      <td>rs141090730</td>\n",
       "      <td>rs141090730</td>\n",
       "      <td>1</td>\n",
       "    </tr>\n",
       "    <tr>\n",
       "      <th>3</th>\n",
       "      <td>1</td>\n",
       "      <td>717474</td>\n",
       "      <td>1_717474_C_T_b37</td>\n",
       "      <td>C</td>\n",
       "      <td>T</td>\n",
       "      <td>rs141784362</td>\n",
       "      <td>rs141784362</td>\n",
       "      <td>1</td>\n",
       "    </tr>\n",
       "    <tr>\n",
       "      <th>4</th>\n",
       "      <td>1</td>\n",
       "      <td>722603</td>\n",
       "      <td>1_722603_T_C_b37</td>\n",
       "      <td>T</td>\n",
       "      <td>C</td>\n",
       "      <td>rs138029171</td>\n",
       "      <td>rs138029171</td>\n",
       "      <td>1</td>\n",
       "    </tr>\n",
       "  </tbody>\n",
       "</table>\n",
       "</div>"
      ],
      "text/plain": [
       "   Chr     Pos         VariantID Ref_b37 ALT RS_ID_dbSNP142_GRCh37p13  \\\n",
       "0    1  713092  1_713092_G_A_b37       G   A                rs4565649   \n",
       "1    1  715074  1_715074_A_G_b37       A   G               rs11804379   \n",
       "2    1  715205  1_715205_C_G_b37       C   G              rs141090730   \n",
       "3    1  717474  1_717474_C_T_b37       C   T              rs141784362   \n",
       "4    1  722603  1_722603_T_C_b37       T   C              rs138029171   \n",
       "\n",
       "  RS_ID_dbSNP147_GRCh37p13  Num_alt_per_site  \n",
       "0                rs4565649                 1  \n",
       "1               rs11804379                 1  \n",
       "2              rs141090730                 1  \n",
       "3              rs141784362                 1  \n",
       "4              rs138029171                 1  "
      ]
     },
     "execution_count": 89,
     "metadata": {},
     "output_type": "execute_result"
    }
   ],
   "source": [
    "original_snp_annot.head()"
   ]
  },
  {
   "cell_type": "code",
   "execution_count": 88,
   "metadata": {},
   "outputs": [
    {
     "data": {
      "text/html": [
       "<div>\n",
       "<style>\n",
       "    .dataframe thead tr:only-child th {\n",
       "        text-align: right;\n",
       "    }\n",
       "\n",
       "    .dataframe thead th {\n",
       "        text-align: left;\n",
       "    }\n",
       "\n",
       "    .dataframe tbody tr th {\n",
       "        vertical-align: top;\n",
       "    }\n",
       "</style>\n",
       "<table border=\"1\" class=\"dataframe\">\n",
       "  <thead>\n",
       "    <tr style=\"text-align: right;\">\n",
       "      <th></th>\n",
       "      <th>track</th>\n",
       "      <th>chromosome</th>\n",
       "      <th>pos_x</th>\n",
       "      <th>pos0</th>\n",
       "      <th>name</th>\n",
       "      <th>score</th>\n",
       "      <th>strand</th>\n",
       "      <th>alleles</th>\n",
       "      <th>allele1</th>\n",
       "      <th>homocount1</th>\n",
       "      <th>...</th>\n",
       "      <th>homocount2</th>\n",
       "      <th>heterocount</th>\n",
       "      <th>pos_y</th>\n",
       "      <th>ref</th>\n",
       "      <th>alt</th>\n",
       "      <th>build</th>\n",
       "      <th>varID</th>\n",
       "      <th>R2</th>\n",
       "      <th>ER2</th>\n",
       "      <th>MAF</th>\n",
       "    </tr>\n",
       "  </thead>\n",
       "  <tbody>\n",
       "    <tr>\n",
       "      <th>0</th>\n",
       "      <td>585</td>\n",
       "      <td>1</td>\n",
       "      <td>88168</td>\n",
       "      <td>88169</td>\n",
       "      <td>rs940550</td>\n",
       "      <td>0</td>\n",
       "      <td>+</td>\n",
       "      <td>C/T</td>\n",
       "      <td>C</td>\n",
       "      <td>0</td>\n",
       "      <td>...</td>\n",
       "      <td>90</td>\n",
       "      <td>0</td>\n",
       "      <td>88169</td>\n",
       "      <td>C</td>\n",
       "      <td>T</td>\n",
       "      <td>b37</td>\n",
       "      <td>1_88169_C_T_b37</td>\n",
       "      <td>0.11771</td>\n",
       "      <td>NaN</td>\n",
       "      <td>0.27911</td>\n",
       "    </tr>\n",
       "    <tr>\n",
       "      <th>1</th>\n",
       "      <td>589</td>\n",
       "      <td>1</td>\n",
       "      <td>564597</td>\n",
       "      <td>564598</td>\n",
       "      <td>rs6594028</td>\n",
       "      <td>0</td>\n",
       "      <td>+</td>\n",
       "      <td>A/G</td>\n",
       "      <td>A</td>\n",
       "      <td>0</td>\n",
       "      <td>...</td>\n",
       "      <td>85</td>\n",
       "      <td>0</td>\n",
       "      <td>564598</td>\n",
       "      <td>A</td>\n",
       "      <td>G</td>\n",
       "      <td>b37</td>\n",
       "      <td>1_564598_A_G_b37</td>\n",
       "      <td>0.24078</td>\n",
       "      <td>NaN</td>\n",
       "      <td>0.11939</td>\n",
       "    </tr>\n",
       "    <tr>\n",
       "      <th>2</th>\n",
       "      <td>589</td>\n",
       "      <td>1</td>\n",
       "      <td>565489</td>\n",
       "      <td>565490</td>\n",
       "      <td>rs7349153</td>\n",
       "      <td>0</td>\n",
       "      <td>+</td>\n",
       "      <td>C/T</td>\n",
       "      <td>C</td>\n",
       "      <td>87</td>\n",
       "      <td>...</td>\n",
       "      <td>0</td>\n",
       "      <td>0</td>\n",
       "      <td>565490</td>\n",
       "      <td>T</td>\n",
       "      <td>C</td>\n",
       "      <td>b37</td>\n",
       "      <td>1_565490_T_C_b37</td>\n",
       "      <td>0.22818</td>\n",
       "      <td>NaN</td>\n",
       "      <td>0.04220</td>\n",
       "    </tr>\n",
       "    <tr>\n",
       "      <th>3</th>\n",
       "      <td>589</td>\n",
       "      <td>1</td>\n",
       "      <td>565936</td>\n",
       "      <td>565937</td>\n",
       "      <td>rs7417504</td>\n",
       "      <td>0</td>\n",
       "      <td>+</td>\n",
       "      <td>C/T</td>\n",
       "      <td>C</td>\n",
       "      <td>90</td>\n",
       "      <td>...</td>\n",
       "      <td>0</td>\n",
       "      <td>0</td>\n",
       "      <td>565937</td>\n",
       "      <td>T</td>\n",
       "      <td>C</td>\n",
       "      <td>b37</td>\n",
       "      <td>1_565937_T_C_b37</td>\n",
       "      <td>0.09274</td>\n",
       "      <td>NaN</td>\n",
       "      <td>0.01590</td>\n",
       "    </tr>\n",
       "    <tr>\n",
       "      <th>4</th>\n",
       "      <td>589</td>\n",
       "      <td>1</td>\n",
       "      <td>566874</td>\n",
       "      <td>566875</td>\n",
       "      <td>rs2185539</td>\n",
       "      <td>0</td>\n",
       "      <td>+</td>\n",
       "      <td>C/T</td>\n",
       "      <td>C</td>\n",
       "      <td>89</td>\n",
       "      <td>...</td>\n",
       "      <td>0</td>\n",
       "      <td>0</td>\n",
       "      <td>566875</td>\n",
       "      <td>C</td>\n",
       "      <td>T</td>\n",
       "      <td>b37</td>\n",
       "      <td>1_566875_C_T_b37</td>\n",
       "      <td>0.97476</td>\n",
       "      <td>0.8441</td>\n",
       "      <td>0.03085</td>\n",
       "    </tr>\n",
       "  </tbody>\n",
       "</table>\n",
       "<p>5 rows × 21 columns</p>\n",
       "</div>"
      ],
      "text/plain": [
       "   track  chromosome   pos_x    pos0       name  score strand alleles allele1  \\\n",
       "0    585           1   88168   88169   rs940550      0      +     C/T       C   \n",
       "1    589           1  564597  564598  rs6594028      0      +     A/G       A   \n",
       "2    589           1  565489  565490  rs7349153      0      +     C/T       C   \n",
       "3    589           1  565936  565937  rs7417504      0      +     C/T       C   \n",
       "4    589           1  566874  566875  rs2185539      0      +     C/T       C   \n",
       "\n",
       "   homocount1   ...    homocount2  heterocount   pos_y  ref alt build  \\\n",
       "0           0   ...            90            0   88169    C   T   b37   \n",
       "1           0   ...            85            0  564598    A   G   b37   \n",
       "2          87   ...             0            0  565490    T   C   b37   \n",
       "3          90   ...             0            0  565937    T   C   b37   \n",
       "4          89   ...             0            0  566875    C   T   b37   \n",
       "\n",
       "              varID       R2     ER2      MAF  \n",
       "0   1_88169_C_T_b37  0.11771     NaN  0.27911  \n",
       "1  1_564598_A_G_b37  0.24078     NaN  0.11939  \n",
       "2  1_565490_T_C_b37  0.22818     NaN  0.04220  \n",
       "3  1_565937_T_C_b37  0.09274     NaN  0.01590  \n",
       "4  1_566875_C_T_b37  0.97476  0.8441  0.03085  \n",
       "\n",
       "[5 rows x 21 columns]"
      ]
     },
     "execution_count": 88,
     "metadata": {},
     "output_type": "execute_result"
    }
   ],
   "source": [
    " combined.head()"
   ]
  },
  {
   "cell_type": "code",
   "execution_count": 91,
   "metadata": {
    "collapsed": true
   },
   "outputs": [],
   "source": [
    "old_analysis = pd.merge(combined, original_snp_annot, left_on='name', right_on='RS_ID_dbSNP147_GRCh37p13')"
   ]
  },
  {
   "cell_type": "code",
   "execution_count": 92,
   "metadata": {},
   "outputs": [
    {
     "data": {
      "text/plain": [
       "(1398103, 29)"
      ]
     },
     "execution_count": 92,
     "metadata": {},
     "output_type": "execute_result"
    }
   ],
   "source": [
    "old_analysis.shape"
   ]
  },
  {
   "cell_type": "code",
   "execution_count": 93,
   "metadata": {},
   "outputs": [
    {
     "data": {
      "text/plain": [
       "(5281272, 8)"
      ]
     },
     "execution_count": 93,
     "metadata": {},
     "output_type": "execute_result"
    }
   ],
   "source": [
    "original_snp_annot.shape"
   ]
  },
  {
   "cell_type": "code",
   "execution_count": 94,
   "metadata": {
    "collapsed": true
   },
   "outputs": [],
   "source": [
    "old_analysis2 = pd.merge(combined, original_snp_annot, left_on='name', right_on='RS_ID_dbSNP142_GRCh37p13')"
   ]
  },
  {
   "cell_type": "code",
   "execution_count": 95,
   "metadata": {},
   "outputs": [
    {
     "data": {
      "text/plain": [
       "(1397735, 29)"
      ]
     },
     "execution_count": 95,
     "metadata": {},
     "output_type": "execute_result"
    }
   ],
   "source": [
    "old_analysis2.shape"
   ]
  },
  {
   "cell_type": "code",
   "execution_count": 96,
   "metadata": {},
   "outputs": [
    {
     "data": {
      "text/plain": [
       "T    1429941\n",
       "A    1423066\n",
       "G    1217581\n",
       "C    1210684\n",
       "Name: ALT, dtype: int64"
      ]
     },
     "execution_count": 96,
     "metadata": {},
     "output_type": "execute_result"
    }
   ],
   "source": [
    "original_snp_annot['ALT'].value_counts()"
   ]
  },
  {
   "cell_type": "code",
   "execution_count": null,
   "metadata": {
    "collapsed": true
   },
   "outputs": [],
   "source": []
  }
 ],
 "metadata": {
  "anaconda-cloud": {},
  "kernelspec": {
   "display_name": "Python 3",
   "language": "python",
   "name": "python3"
  },
  "language_info": {
   "codemirror_mode": {
    "name": "ipython",
    "version": 3
   },
   "file_extension": ".py",
   "mimetype": "text/x-python",
   "name": "python",
   "nbconvert_exporter": "python",
   "pygments_lexer": "ipython3",
   "version": "3.5.2"
  }
 },
 "nbformat": 4,
 "nbformat_minor": 2
}
